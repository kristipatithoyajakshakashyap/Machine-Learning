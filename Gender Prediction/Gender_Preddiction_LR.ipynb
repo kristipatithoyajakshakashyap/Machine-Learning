{
  "nbformat": 4,
  "nbformat_minor": 0,
  "metadata": {
    "colab": {
      "name": "Gender Preddiction_LR.ipynb",
      "provenance": [],
      "authorship_tag": "ABX9TyPtl97ZniOFHxTo4mXyfvvv",
      "include_colab_link": true
    },
    "kernelspec": {
      "name": "python3",
      "display_name": "Python 3"
    },
    "language_info": {
      "name": "python"
    }
  },
  "cells": [
    {
      "cell_type": "markdown",
      "metadata": {
        "id": "view-in-github",
        "colab_type": "text"
      },
      "source": [
        "<a href=\"https://colab.research.google.com/github/kristipatithoyajakshakashyap/Machine-Learning/blob/main/Gender%20Prediction/Gender_Preddiction_LR.ipynb\" target=\"_parent\"><img src=\"https://colab.research.google.com/assets/colab-badge.svg\" alt=\"Open In Colab\"/></a>"
      ]
    },
    {
      "cell_type": "code",
      "execution_count": 49,
      "metadata": {
        "id": "6NucDtONalPu"
      },
      "outputs": [],
      "source": [
        "#importing the dependencies\n",
        "import numpy as np\n",
        "import pandas as pd\n",
        "import matplotlib.pyplot as plt\n",
        "from sklearn.preprocessing import StandardScaler\n",
        "from sklearn.model_selection import train_test_split\n",
        "from sklearn.linear_model import LogisticRegression\n",
        "from sklearn.metrics import accuracy_score"
      ]
    },
    {
      "cell_type": "code",
      "source": [
        "# Loading the data from csv to pandas dataframe\n",
        "voice_data = pd.read_csv('/content/voice.csv')"
      ],
      "metadata": {
        "id": "h9seFwOFawdl"
      },
      "execution_count": 32,
      "outputs": []
    },
    {
      "cell_type": "code",
      "source": [
        "# 1st 5 rows of dataframe\n",
        "voice_data.head()"
      ],
      "metadata": {
        "colab": {
          "base_uri": "https://localhost:8080/",
          "height": 300
        },
        "id": "IGSs9jmFa5RJ",
        "outputId": "e6e05454-8f15-4bb0-d02e-f415b72492c0"
      },
      "execution_count": 33,
      "outputs": [
        {
          "output_type": "execute_result",
          "data": {
            "text/plain": [
              "   meanfreq        sd    median       Q25       Q75       IQR       skew  \\\n",
              "0  0.059781  0.064241  0.032027  0.015071  0.090193  0.075122  12.863462   \n",
              "1  0.066009  0.067310  0.040229  0.019414  0.092666  0.073252  22.423285   \n",
              "2  0.077316  0.083829  0.036718  0.008701  0.131908  0.123207  30.757155   \n",
              "3  0.151228  0.072111  0.158011  0.096582  0.207955  0.111374   1.232831   \n",
              "4  0.135120  0.079146  0.124656  0.078720  0.206045  0.127325   1.101174   \n",
              "\n",
              "          kurt    sp.ent       sfm  ...  centroid   meanfun    minfun  \\\n",
              "0   274.402906  0.893369  0.491918  ...  0.059781  0.084279  0.015702   \n",
              "1   634.613855  0.892193  0.513724  ...  0.066009  0.107937  0.015826   \n",
              "2  1024.927705  0.846389  0.478905  ...  0.077316  0.098706  0.015656   \n",
              "3     4.177296  0.963322  0.727232  ...  0.151228  0.088965  0.017798   \n",
              "4     4.333713  0.971955  0.783568  ...  0.135120  0.106398  0.016931   \n",
              "\n",
              "     maxfun   meandom    mindom    maxdom   dfrange   modindx  label  \n",
              "0  0.275862  0.007812  0.007812  0.007812  0.000000  0.000000   male  \n",
              "1  0.250000  0.009014  0.007812  0.054688  0.046875  0.052632   male  \n",
              "2  0.271186  0.007990  0.007812  0.015625  0.007812  0.046512   male  \n",
              "3  0.250000  0.201497  0.007812  0.562500  0.554688  0.247119   male  \n",
              "4  0.266667  0.712812  0.007812  5.484375  5.476562  0.208274   male  \n",
              "\n",
              "[5 rows x 21 columns]"
            ],
            "text/html": [
              "\n",
              "  <div id=\"df-b27ba974-4328-44d2-8f1c-55316b240da0\">\n",
              "    <div class=\"colab-df-container\">\n",
              "      <div>\n",
              "<style scoped>\n",
              "    .dataframe tbody tr th:only-of-type {\n",
              "        vertical-align: middle;\n",
              "    }\n",
              "\n",
              "    .dataframe tbody tr th {\n",
              "        vertical-align: top;\n",
              "    }\n",
              "\n",
              "    .dataframe thead th {\n",
              "        text-align: right;\n",
              "    }\n",
              "</style>\n",
              "<table border=\"1\" class=\"dataframe\">\n",
              "  <thead>\n",
              "    <tr style=\"text-align: right;\">\n",
              "      <th></th>\n",
              "      <th>meanfreq</th>\n",
              "      <th>sd</th>\n",
              "      <th>median</th>\n",
              "      <th>Q25</th>\n",
              "      <th>Q75</th>\n",
              "      <th>IQR</th>\n",
              "      <th>skew</th>\n",
              "      <th>kurt</th>\n",
              "      <th>sp.ent</th>\n",
              "      <th>sfm</th>\n",
              "      <th>...</th>\n",
              "      <th>centroid</th>\n",
              "      <th>meanfun</th>\n",
              "      <th>minfun</th>\n",
              "      <th>maxfun</th>\n",
              "      <th>meandom</th>\n",
              "      <th>mindom</th>\n",
              "      <th>maxdom</th>\n",
              "      <th>dfrange</th>\n",
              "      <th>modindx</th>\n",
              "      <th>label</th>\n",
              "    </tr>\n",
              "  </thead>\n",
              "  <tbody>\n",
              "    <tr>\n",
              "      <th>0</th>\n",
              "      <td>0.059781</td>\n",
              "      <td>0.064241</td>\n",
              "      <td>0.032027</td>\n",
              "      <td>0.015071</td>\n",
              "      <td>0.090193</td>\n",
              "      <td>0.075122</td>\n",
              "      <td>12.863462</td>\n",
              "      <td>274.402906</td>\n",
              "      <td>0.893369</td>\n",
              "      <td>0.491918</td>\n",
              "      <td>...</td>\n",
              "      <td>0.059781</td>\n",
              "      <td>0.084279</td>\n",
              "      <td>0.015702</td>\n",
              "      <td>0.275862</td>\n",
              "      <td>0.007812</td>\n",
              "      <td>0.007812</td>\n",
              "      <td>0.007812</td>\n",
              "      <td>0.000000</td>\n",
              "      <td>0.000000</td>\n",
              "      <td>male</td>\n",
              "    </tr>\n",
              "    <tr>\n",
              "      <th>1</th>\n",
              "      <td>0.066009</td>\n",
              "      <td>0.067310</td>\n",
              "      <td>0.040229</td>\n",
              "      <td>0.019414</td>\n",
              "      <td>0.092666</td>\n",
              "      <td>0.073252</td>\n",
              "      <td>22.423285</td>\n",
              "      <td>634.613855</td>\n",
              "      <td>0.892193</td>\n",
              "      <td>0.513724</td>\n",
              "      <td>...</td>\n",
              "      <td>0.066009</td>\n",
              "      <td>0.107937</td>\n",
              "      <td>0.015826</td>\n",
              "      <td>0.250000</td>\n",
              "      <td>0.009014</td>\n",
              "      <td>0.007812</td>\n",
              "      <td>0.054688</td>\n",
              "      <td>0.046875</td>\n",
              "      <td>0.052632</td>\n",
              "      <td>male</td>\n",
              "    </tr>\n",
              "    <tr>\n",
              "      <th>2</th>\n",
              "      <td>0.077316</td>\n",
              "      <td>0.083829</td>\n",
              "      <td>0.036718</td>\n",
              "      <td>0.008701</td>\n",
              "      <td>0.131908</td>\n",
              "      <td>0.123207</td>\n",
              "      <td>30.757155</td>\n",
              "      <td>1024.927705</td>\n",
              "      <td>0.846389</td>\n",
              "      <td>0.478905</td>\n",
              "      <td>...</td>\n",
              "      <td>0.077316</td>\n",
              "      <td>0.098706</td>\n",
              "      <td>0.015656</td>\n",
              "      <td>0.271186</td>\n",
              "      <td>0.007990</td>\n",
              "      <td>0.007812</td>\n",
              "      <td>0.015625</td>\n",
              "      <td>0.007812</td>\n",
              "      <td>0.046512</td>\n",
              "      <td>male</td>\n",
              "    </tr>\n",
              "    <tr>\n",
              "      <th>3</th>\n",
              "      <td>0.151228</td>\n",
              "      <td>0.072111</td>\n",
              "      <td>0.158011</td>\n",
              "      <td>0.096582</td>\n",
              "      <td>0.207955</td>\n",
              "      <td>0.111374</td>\n",
              "      <td>1.232831</td>\n",
              "      <td>4.177296</td>\n",
              "      <td>0.963322</td>\n",
              "      <td>0.727232</td>\n",
              "      <td>...</td>\n",
              "      <td>0.151228</td>\n",
              "      <td>0.088965</td>\n",
              "      <td>0.017798</td>\n",
              "      <td>0.250000</td>\n",
              "      <td>0.201497</td>\n",
              "      <td>0.007812</td>\n",
              "      <td>0.562500</td>\n",
              "      <td>0.554688</td>\n",
              "      <td>0.247119</td>\n",
              "      <td>male</td>\n",
              "    </tr>\n",
              "    <tr>\n",
              "      <th>4</th>\n",
              "      <td>0.135120</td>\n",
              "      <td>0.079146</td>\n",
              "      <td>0.124656</td>\n",
              "      <td>0.078720</td>\n",
              "      <td>0.206045</td>\n",
              "      <td>0.127325</td>\n",
              "      <td>1.101174</td>\n",
              "      <td>4.333713</td>\n",
              "      <td>0.971955</td>\n",
              "      <td>0.783568</td>\n",
              "      <td>...</td>\n",
              "      <td>0.135120</td>\n",
              "      <td>0.106398</td>\n",
              "      <td>0.016931</td>\n",
              "      <td>0.266667</td>\n",
              "      <td>0.712812</td>\n",
              "      <td>0.007812</td>\n",
              "      <td>5.484375</td>\n",
              "      <td>5.476562</td>\n",
              "      <td>0.208274</td>\n",
              "      <td>male</td>\n",
              "    </tr>\n",
              "  </tbody>\n",
              "</table>\n",
              "<p>5 rows × 21 columns</p>\n",
              "</div>\n",
              "      <button class=\"colab-df-convert\" onclick=\"convertToInteractive('df-b27ba974-4328-44d2-8f1c-55316b240da0')\"\n",
              "              title=\"Convert this dataframe to an interactive table.\"\n",
              "              style=\"display:none;\">\n",
              "        \n",
              "  <svg xmlns=\"http://www.w3.org/2000/svg\" height=\"24px\"viewBox=\"0 0 24 24\"\n",
              "       width=\"24px\">\n",
              "    <path d=\"M0 0h24v24H0V0z\" fill=\"none\"/>\n",
              "    <path d=\"M18.56 5.44l.94 2.06.94-2.06 2.06-.94-2.06-.94-.94-2.06-.94 2.06-2.06.94zm-11 1L8.5 8.5l.94-2.06 2.06-.94-2.06-.94L8.5 2.5l-.94 2.06-2.06.94zm10 10l.94 2.06.94-2.06 2.06-.94-2.06-.94-.94-2.06-.94 2.06-2.06.94z\"/><path d=\"M17.41 7.96l-1.37-1.37c-.4-.4-.92-.59-1.43-.59-.52 0-1.04.2-1.43.59L10.3 9.45l-7.72 7.72c-.78.78-.78 2.05 0 2.83L4 21.41c.39.39.9.59 1.41.59.51 0 1.02-.2 1.41-.59l7.78-7.78 2.81-2.81c.8-.78.8-2.07 0-2.86zM5.41 20L4 18.59l7.72-7.72 1.47 1.35L5.41 20z\"/>\n",
              "  </svg>\n",
              "      </button>\n",
              "      \n",
              "  <style>\n",
              "    .colab-df-container {\n",
              "      display:flex;\n",
              "      flex-wrap:wrap;\n",
              "      gap: 12px;\n",
              "    }\n",
              "\n",
              "    .colab-df-convert {\n",
              "      background-color: #E8F0FE;\n",
              "      border: none;\n",
              "      border-radius: 50%;\n",
              "      cursor: pointer;\n",
              "      display: none;\n",
              "      fill: #1967D2;\n",
              "      height: 32px;\n",
              "      padding: 0 0 0 0;\n",
              "      width: 32px;\n",
              "    }\n",
              "\n",
              "    .colab-df-convert:hover {\n",
              "      background-color: #E2EBFA;\n",
              "      box-shadow: 0px 1px 2px rgba(60, 64, 67, 0.3), 0px 1px 3px 1px rgba(60, 64, 67, 0.15);\n",
              "      fill: #174EA6;\n",
              "    }\n",
              "\n",
              "    [theme=dark] .colab-df-convert {\n",
              "      background-color: #3B4455;\n",
              "      fill: #D2E3FC;\n",
              "    }\n",
              "\n",
              "    [theme=dark] .colab-df-convert:hover {\n",
              "      background-color: #434B5C;\n",
              "      box-shadow: 0px 1px 3px 1px rgba(0, 0, 0, 0.15);\n",
              "      filter: drop-shadow(0px 1px 2px rgba(0, 0, 0, 0.3));\n",
              "      fill: #FFFFFF;\n",
              "    }\n",
              "  </style>\n",
              "\n",
              "      <script>\n",
              "        const buttonEl =\n",
              "          document.querySelector('#df-b27ba974-4328-44d2-8f1c-55316b240da0 button.colab-df-convert');\n",
              "        buttonEl.style.display =\n",
              "          google.colab.kernel.accessAllowed ? 'block' : 'none';\n",
              "\n",
              "        async function convertToInteractive(key) {\n",
              "          const element = document.querySelector('#df-b27ba974-4328-44d2-8f1c-55316b240da0');\n",
              "          const dataTable =\n",
              "            await google.colab.kernel.invokeFunction('convertToInteractive',\n",
              "                                                     [key], {});\n",
              "          if (!dataTable) return;\n",
              "\n",
              "          const docLinkHtml = 'Like what you see? Visit the ' +\n",
              "            '<a target=\"_blank\" href=https://colab.research.google.com/notebooks/data_table.ipynb>data table notebook</a>'\n",
              "            + ' to learn more about interactive tables.';\n",
              "          element.innerHTML = '';\n",
              "          dataTable['output_type'] = 'display_data';\n",
              "          await google.colab.output.renderOutput(dataTable, element);\n",
              "          const docLink = document.createElement('div');\n",
              "          docLink.innerHTML = docLinkHtml;\n",
              "          element.appendChild(docLink);\n",
              "        }\n",
              "      </script>\n",
              "    </div>\n",
              "  </div>\n",
              "  "
            ]
          },
          "metadata": {},
          "execution_count": 33
        }
      ]
    },
    {
      "cell_type": "code",
      "source": [
        "# no of rows and columns\n",
        "voice_data.shape"
      ],
      "metadata": {
        "colab": {
          "base_uri": "https://localhost:8080/"
        },
        "id": "DdALoQqea7f6",
        "outputId": "33a8a73f-659d-4bad-bb7a-6d9b7d426078"
      },
      "execution_count": 34,
      "outputs": [
        {
          "output_type": "execute_result",
          "data": {
            "text/plain": [
              "(3168, 21)"
            ]
          },
          "metadata": {},
          "execution_count": 34
        }
      ]
    },
    {
      "cell_type": "code",
      "source": [
        "# getting statistical measures of the data\n",
        "\n",
        "voice_data.describe()"
      ],
      "metadata": {
        "colab": {
          "base_uri": "https://localhost:8080/",
          "height": 364
        },
        "id": "oz2ROykAa9wa",
        "outputId": "95a695d2-d33d-4571-9fdc-6ee7be0cf9d6"
      },
      "execution_count": 35,
      "outputs": [
        {
          "output_type": "execute_result",
          "data": {
            "text/plain": [
              "          meanfreq           sd       median          Q25          Q75  \\\n",
              "count  3168.000000  3168.000000  3168.000000  3168.000000  3168.000000   \n",
              "mean      0.180907     0.057126     0.185621     0.140456     0.224765   \n",
              "std       0.029918     0.016652     0.036360     0.048680     0.023639   \n",
              "min       0.039363     0.018363     0.010975     0.000229     0.042946   \n",
              "25%       0.163662     0.041954     0.169593     0.111087     0.208747   \n",
              "50%       0.184838     0.059155     0.190032     0.140286     0.225684   \n",
              "75%       0.199146     0.067020     0.210618     0.175939     0.243660   \n",
              "max       0.251124     0.115273     0.261224     0.247347     0.273469   \n",
              "\n",
              "               IQR         skew         kurt       sp.ent          sfm  \\\n",
              "count  3168.000000  3168.000000  3168.000000  3168.000000  3168.000000   \n",
              "mean      0.084309     3.140168    36.568461     0.895127     0.408216   \n",
              "std       0.042783     4.240529   134.928661     0.044980     0.177521   \n",
              "min       0.014558     0.141735     2.068455     0.738651     0.036876   \n",
              "25%       0.042560     1.649569     5.669547     0.861811     0.258041   \n",
              "50%       0.094280     2.197101     8.318463     0.901767     0.396335   \n",
              "75%       0.114175     2.931694    13.648905     0.928713     0.533676   \n",
              "max       0.252225    34.725453  1309.612887     0.981997     0.842936   \n",
              "\n",
              "              mode     centroid      meanfun       minfun       maxfun  \\\n",
              "count  3168.000000  3168.000000  3168.000000  3168.000000  3168.000000   \n",
              "mean      0.165282     0.180907     0.142807     0.036802     0.258842   \n",
              "std       0.077203     0.029918     0.032304     0.019220     0.030077   \n",
              "min       0.000000     0.039363     0.055565     0.009775     0.103093   \n",
              "25%       0.118016     0.163662     0.116998     0.018223     0.253968   \n",
              "50%       0.186599     0.184838     0.140519     0.046110     0.271186   \n",
              "75%       0.221104     0.199146     0.169581     0.047904     0.277457   \n",
              "max       0.280000     0.251124     0.237636     0.204082     0.279114   \n",
              "\n",
              "           meandom       mindom       maxdom      dfrange      modindx  \n",
              "count  3168.000000  3168.000000  3168.000000  3168.000000  3168.000000  \n",
              "mean      0.829211     0.052647     5.047277     4.994630     0.173752  \n",
              "std       0.525205     0.063299     3.521157     3.520039     0.119454  \n",
              "min       0.007812     0.004883     0.007812     0.000000     0.000000  \n",
              "25%       0.419828     0.007812     2.070312     2.044922     0.099766  \n",
              "50%       0.765795     0.023438     4.992188     4.945312     0.139357  \n",
              "75%       1.177166     0.070312     7.007812     6.992188     0.209183  \n",
              "max       2.957682     0.458984    21.867188    21.843750     0.932374  "
            ],
            "text/html": [
              "\n",
              "  <div id=\"df-69ae2217-4332-4064-ac6f-d100397e8f35\">\n",
              "    <div class=\"colab-df-container\">\n",
              "      <div>\n",
              "<style scoped>\n",
              "    .dataframe tbody tr th:only-of-type {\n",
              "        vertical-align: middle;\n",
              "    }\n",
              "\n",
              "    .dataframe tbody tr th {\n",
              "        vertical-align: top;\n",
              "    }\n",
              "\n",
              "    .dataframe thead th {\n",
              "        text-align: right;\n",
              "    }\n",
              "</style>\n",
              "<table border=\"1\" class=\"dataframe\">\n",
              "  <thead>\n",
              "    <tr style=\"text-align: right;\">\n",
              "      <th></th>\n",
              "      <th>meanfreq</th>\n",
              "      <th>sd</th>\n",
              "      <th>median</th>\n",
              "      <th>Q25</th>\n",
              "      <th>Q75</th>\n",
              "      <th>IQR</th>\n",
              "      <th>skew</th>\n",
              "      <th>kurt</th>\n",
              "      <th>sp.ent</th>\n",
              "      <th>sfm</th>\n",
              "      <th>mode</th>\n",
              "      <th>centroid</th>\n",
              "      <th>meanfun</th>\n",
              "      <th>minfun</th>\n",
              "      <th>maxfun</th>\n",
              "      <th>meandom</th>\n",
              "      <th>mindom</th>\n",
              "      <th>maxdom</th>\n",
              "      <th>dfrange</th>\n",
              "      <th>modindx</th>\n",
              "    </tr>\n",
              "  </thead>\n",
              "  <tbody>\n",
              "    <tr>\n",
              "      <th>count</th>\n",
              "      <td>3168.000000</td>\n",
              "      <td>3168.000000</td>\n",
              "      <td>3168.000000</td>\n",
              "      <td>3168.000000</td>\n",
              "      <td>3168.000000</td>\n",
              "      <td>3168.000000</td>\n",
              "      <td>3168.000000</td>\n",
              "      <td>3168.000000</td>\n",
              "      <td>3168.000000</td>\n",
              "      <td>3168.000000</td>\n",
              "      <td>3168.000000</td>\n",
              "      <td>3168.000000</td>\n",
              "      <td>3168.000000</td>\n",
              "      <td>3168.000000</td>\n",
              "      <td>3168.000000</td>\n",
              "      <td>3168.000000</td>\n",
              "      <td>3168.000000</td>\n",
              "      <td>3168.000000</td>\n",
              "      <td>3168.000000</td>\n",
              "      <td>3168.000000</td>\n",
              "    </tr>\n",
              "    <tr>\n",
              "      <th>mean</th>\n",
              "      <td>0.180907</td>\n",
              "      <td>0.057126</td>\n",
              "      <td>0.185621</td>\n",
              "      <td>0.140456</td>\n",
              "      <td>0.224765</td>\n",
              "      <td>0.084309</td>\n",
              "      <td>3.140168</td>\n",
              "      <td>36.568461</td>\n",
              "      <td>0.895127</td>\n",
              "      <td>0.408216</td>\n",
              "      <td>0.165282</td>\n",
              "      <td>0.180907</td>\n",
              "      <td>0.142807</td>\n",
              "      <td>0.036802</td>\n",
              "      <td>0.258842</td>\n",
              "      <td>0.829211</td>\n",
              "      <td>0.052647</td>\n",
              "      <td>5.047277</td>\n",
              "      <td>4.994630</td>\n",
              "      <td>0.173752</td>\n",
              "    </tr>\n",
              "    <tr>\n",
              "      <th>std</th>\n",
              "      <td>0.029918</td>\n",
              "      <td>0.016652</td>\n",
              "      <td>0.036360</td>\n",
              "      <td>0.048680</td>\n",
              "      <td>0.023639</td>\n",
              "      <td>0.042783</td>\n",
              "      <td>4.240529</td>\n",
              "      <td>134.928661</td>\n",
              "      <td>0.044980</td>\n",
              "      <td>0.177521</td>\n",
              "      <td>0.077203</td>\n",
              "      <td>0.029918</td>\n",
              "      <td>0.032304</td>\n",
              "      <td>0.019220</td>\n",
              "      <td>0.030077</td>\n",
              "      <td>0.525205</td>\n",
              "      <td>0.063299</td>\n",
              "      <td>3.521157</td>\n",
              "      <td>3.520039</td>\n",
              "      <td>0.119454</td>\n",
              "    </tr>\n",
              "    <tr>\n",
              "      <th>min</th>\n",
              "      <td>0.039363</td>\n",
              "      <td>0.018363</td>\n",
              "      <td>0.010975</td>\n",
              "      <td>0.000229</td>\n",
              "      <td>0.042946</td>\n",
              "      <td>0.014558</td>\n",
              "      <td>0.141735</td>\n",
              "      <td>2.068455</td>\n",
              "      <td>0.738651</td>\n",
              "      <td>0.036876</td>\n",
              "      <td>0.000000</td>\n",
              "      <td>0.039363</td>\n",
              "      <td>0.055565</td>\n",
              "      <td>0.009775</td>\n",
              "      <td>0.103093</td>\n",
              "      <td>0.007812</td>\n",
              "      <td>0.004883</td>\n",
              "      <td>0.007812</td>\n",
              "      <td>0.000000</td>\n",
              "      <td>0.000000</td>\n",
              "    </tr>\n",
              "    <tr>\n",
              "      <th>25%</th>\n",
              "      <td>0.163662</td>\n",
              "      <td>0.041954</td>\n",
              "      <td>0.169593</td>\n",
              "      <td>0.111087</td>\n",
              "      <td>0.208747</td>\n",
              "      <td>0.042560</td>\n",
              "      <td>1.649569</td>\n",
              "      <td>5.669547</td>\n",
              "      <td>0.861811</td>\n",
              "      <td>0.258041</td>\n",
              "      <td>0.118016</td>\n",
              "      <td>0.163662</td>\n",
              "      <td>0.116998</td>\n",
              "      <td>0.018223</td>\n",
              "      <td>0.253968</td>\n",
              "      <td>0.419828</td>\n",
              "      <td>0.007812</td>\n",
              "      <td>2.070312</td>\n",
              "      <td>2.044922</td>\n",
              "      <td>0.099766</td>\n",
              "    </tr>\n",
              "    <tr>\n",
              "      <th>50%</th>\n",
              "      <td>0.184838</td>\n",
              "      <td>0.059155</td>\n",
              "      <td>0.190032</td>\n",
              "      <td>0.140286</td>\n",
              "      <td>0.225684</td>\n",
              "      <td>0.094280</td>\n",
              "      <td>2.197101</td>\n",
              "      <td>8.318463</td>\n",
              "      <td>0.901767</td>\n",
              "      <td>0.396335</td>\n",
              "      <td>0.186599</td>\n",
              "      <td>0.184838</td>\n",
              "      <td>0.140519</td>\n",
              "      <td>0.046110</td>\n",
              "      <td>0.271186</td>\n",
              "      <td>0.765795</td>\n",
              "      <td>0.023438</td>\n",
              "      <td>4.992188</td>\n",
              "      <td>4.945312</td>\n",
              "      <td>0.139357</td>\n",
              "    </tr>\n",
              "    <tr>\n",
              "      <th>75%</th>\n",
              "      <td>0.199146</td>\n",
              "      <td>0.067020</td>\n",
              "      <td>0.210618</td>\n",
              "      <td>0.175939</td>\n",
              "      <td>0.243660</td>\n",
              "      <td>0.114175</td>\n",
              "      <td>2.931694</td>\n",
              "      <td>13.648905</td>\n",
              "      <td>0.928713</td>\n",
              "      <td>0.533676</td>\n",
              "      <td>0.221104</td>\n",
              "      <td>0.199146</td>\n",
              "      <td>0.169581</td>\n",
              "      <td>0.047904</td>\n",
              "      <td>0.277457</td>\n",
              "      <td>1.177166</td>\n",
              "      <td>0.070312</td>\n",
              "      <td>7.007812</td>\n",
              "      <td>6.992188</td>\n",
              "      <td>0.209183</td>\n",
              "    </tr>\n",
              "    <tr>\n",
              "      <th>max</th>\n",
              "      <td>0.251124</td>\n",
              "      <td>0.115273</td>\n",
              "      <td>0.261224</td>\n",
              "      <td>0.247347</td>\n",
              "      <td>0.273469</td>\n",
              "      <td>0.252225</td>\n",
              "      <td>34.725453</td>\n",
              "      <td>1309.612887</td>\n",
              "      <td>0.981997</td>\n",
              "      <td>0.842936</td>\n",
              "      <td>0.280000</td>\n",
              "      <td>0.251124</td>\n",
              "      <td>0.237636</td>\n",
              "      <td>0.204082</td>\n",
              "      <td>0.279114</td>\n",
              "      <td>2.957682</td>\n",
              "      <td>0.458984</td>\n",
              "      <td>21.867188</td>\n",
              "      <td>21.843750</td>\n",
              "      <td>0.932374</td>\n",
              "    </tr>\n",
              "  </tbody>\n",
              "</table>\n",
              "</div>\n",
              "      <button class=\"colab-df-convert\" onclick=\"convertToInteractive('df-69ae2217-4332-4064-ac6f-d100397e8f35')\"\n",
              "              title=\"Convert this dataframe to an interactive table.\"\n",
              "              style=\"display:none;\">\n",
              "        \n",
              "  <svg xmlns=\"http://www.w3.org/2000/svg\" height=\"24px\"viewBox=\"0 0 24 24\"\n",
              "       width=\"24px\">\n",
              "    <path d=\"M0 0h24v24H0V0z\" fill=\"none\"/>\n",
              "    <path d=\"M18.56 5.44l.94 2.06.94-2.06 2.06-.94-2.06-.94-.94-2.06-.94 2.06-2.06.94zm-11 1L8.5 8.5l.94-2.06 2.06-.94-2.06-.94L8.5 2.5l-.94 2.06-2.06.94zm10 10l.94 2.06.94-2.06 2.06-.94-2.06-.94-.94-2.06-.94 2.06-2.06.94z\"/><path d=\"M17.41 7.96l-1.37-1.37c-.4-.4-.92-.59-1.43-.59-.52 0-1.04.2-1.43.59L10.3 9.45l-7.72 7.72c-.78.78-.78 2.05 0 2.83L4 21.41c.39.39.9.59 1.41.59.51 0 1.02-.2 1.41-.59l7.78-7.78 2.81-2.81c.8-.78.8-2.07 0-2.86zM5.41 20L4 18.59l7.72-7.72 1.47 1.35L5.41 20z\"/>\n",
              "  </svg>\n",
              "      </button>\n",
              "      \n",
              "  <style>\n",
              "    .colab-df-container {\n",
              "      display:flex;\n",
              "      flex-wrap:wrap;\n",
              "      gap: 12px;\n",
              "    }\n",
              "\n",
              "    .colab-df-convert {\n",
              "      background-color: #E8F0FE;\n",
              "      border: none;\n",
              "      border-radius: 50%;\n",
              "      cursor: pointer;\n",
              "      display: none;\n",
              "      fill: #1967D2;\n",
              "      height: 32px;\n",
              "      padding: 0 0 0 0;\n",
              "      width: 32px;\n",
              "    }\n",
              "\n",
              "    .colab-df-convert:hover {\n",
              "      background-color: #E2EBFA;\n",
              "      box-shadow: 0px 1px 2px rgba(60, 64, 67, 0.3), 0px 1px 3px 1px rgba(60, 64, 67, 0.15);\n",
              "      fill: #174EA6;\n",
              "    }\n",
              "\n",
              "    [theme=dark] .colab-df-convert {\n",
              "      background-color: #3B4455;\n",
              "      fill: #D2E3FC;\n",
              "    }\n",
              "\n",
              "    [theme=dark] .colab-df-convert:hover {\n",
              "      background-color: #434B5C;\n",
              "      box-shadow: 0px 1px 3px 1px rgba(0, 0, 0, 0.15);\n",
              "      filter: drop-shadow(0px 1px 2px rgba(0, 0, 0, 0.3));\n",
              "      fill: #FFFFFF;\n",
              "    }\n",
              "  </style>\n",
              "\n",
              "      <script>\n",
              "        const buttonEl =\n",
              "          document.querySelector('#df-69ae2217-4332-4064-ac6f-d100397e8f35 button.colab-df-convert');\n",
              "        buttonEl.style.display =\n",
              "          google.colab.kernel.accessAllowed ? 'block' : 'none';\n",
              "\n",
              "        async function convertToInteractive(key) {\n",
              "          const element = document.querySelector('#df-69ae2217-4332-4064-ac6f-d100397e8f35');\n",
              "          const dataTable =\n",
              "            await google.colab.kernel.invokeFunction('convertToInteractive',\n",
              "                                                     [key], {});\n",
              "          if (!dataTable) return;\n",
              "\n",
              "          const docLinkHtml = 'Like what you see? Visit the ' +\n",
              "            '<a target=\"_blank\" href=https://colab.research.google.com/notebooks/data_table.ipynb>data table notebook</a>'\n",
              "            + ' to learn more about interactive tables.';\n",
              "          element.innerHTML = '';\n",
              "          dataTable['output_type'] = 'display_data';\n",
              "          await google.colab.output.renderOutput(dataTable, element);\n",
              "          const docLink = document.createElement('div');\n",
              "          docLink.innerHTML = docLinkHtml;\n",
              "          element.appendChild(docLink);\n",
              "        }\n",
              "      </script>\n",
              "    </div>\n",
              "  </div>\n",
              "  "
            ]
          },
          "metadata": {},
          "execution_count": 35
        }
      ]
    },
    {
      "cell_type": "code",
      "source": [
        "# label encoding\n",
        "voice_data.replace({'label':{'male':0,'female':1}}, inplace=True)"
      ],
      "metadata": {
        "id": "E2Co8L95bBeK"
      },
      "execution_count": 36,
      "outputs": []
    },
    {
      "cell_type": "code",
      "source": [
        "# sepearate features and target\n",
        "\n",
        "X = voice_data.drop(columns='label',axis=1)\n",
        "Y = voice_data['label']"
      ],
      "metadata": {
        "id": "S_W739W4bFVO"
      },
      "execution_count": 37,
      "outputs": []
    },
    {
      "cell_type": "markdown",
      "source": [
        "Data Standardization"
      ],
      "metadata": {
        "id": "20uoC7ohbNKd"
      }
    },
    {
      "cell_type": "code",
      "source": [
        "scaler = StandardScaler()"
      ],
      "metadata": {
        "id": "ChO_HohtbLuT"
      },
      "execution_count": 38,
      "outputs": []
    },
    {
      "cell_type": "code",
      "source": [
        "scaler.fit(X)"
      ],
      "metadata": {
        "colab": {
          "base_uri": "https://localhost:8080/"
        },
        "id": "jJLpEJDCbRpe",
        "outputId": "4da0c49a-2ae0-483f-9ae4-b29ac15adae7"
      },
      "execution_count": 39,
      "outputs": [
        {
          "output_type": "execute_result",
          "data": {
            "text/plain": [
              "StandardScaler()"
            ]
          },
          "metadata": {},
          "execution_count": 39
        }
      ]
    },
    {
      "cell_type": "code",
      "source": [
        "standardized_data = scaler.transform(X)"
      ],
      "metadata": {
        "id": "Z-2ABhIWbdwU"
      },
      "execution_count": 40,
      "outputs": []
    },
    {
      "cell_type": "markdown",
      "source": [
        "Spliting the training and testing data"
      ],
      "metadata": {
        "id": "Xgw6lb6XbiBC"
      }
    },
    {
      "cell_type": "code",
      "source": [
        "X_train, X_test, Y_train, Y_test = train_test_split(X, Y, test_size=0.2, random_state=2)"
      ],
      "metadata": {
        "id": "w55qr4bxbfsi"
      },
      "execution_count": 41,
      "outputs": []
    },
    {
      "cell_type": "code",
      "source": [
        "X_train.shape[0]"
      ],
      "metadata": {
        "colab": {
          "base_uri": "https://localhost:8080/"
        },
        "id": "MqvTBTBrfJn6",
        "outputId": "1bb7acce-2de1-49a9-f123-d8c3feea0737"
      },
      "execution_count": 55,
      "outputs": [
        {
          "output_type": "execute_result",
          "data": {
            "text/plain": [
              "2534"
            ]
          },
          "metadata": {},
          "execution_count": 55
        }
      ]
    },
    {
      "cell_type": "code",
      "source": [
        "distribution = [X_train.shape[0],X_test.shape[0]]\n",
        "my_labels = 'X_train','X_test'\n",
        "my_colors = ['lightblue','lightsteelblue']\n",
        "my_explode = (0, 0.1)\n",
        "plt.pie(distribution, labels=my_labels, autopct='%1.1f%%',startangle=15, shadow = True, colors=my_colors,explode=my_explode)\n",
        "plt.title('Features Spliting')\n",
        "plt.axis('equal')\n",
        "plt.show()"
      ],
      "metadata": {
        "colab": {
          "base_uri": "https://localhost:8080/",
          "height": 264
        },
        "id": "y0yNhZdmeIZo",
        "outputId": "de34ad2d-c016-4a19-ebd0-8e0613aca1c1"
      },
      "execution_count": 58,
      "outputs": [
        {
          "output_type": "display_data",
          "data": {
            "text/plain": [
              "<Figure size 432x288 with 1 Axes>"
            ],
            "image/png": "[encoded data removed]"
          },
          "metadata": {}
        }
      ]
    },
    {
      "cell_type": "code",
      "source": [
        "distribution = [Y_train.shape[0],Y_test.shape[0]]\n",
        "my_labels = 'Y_train','Y_test'\n",
        "my_colors = ['orange','blue']\n",
        "my_explode = (0, 0.1)\n",
        "plt.pie(distribution, labels=my_labels, autopct='%1.1f%%',startangle=15, shadow = True, colors=my_colors,explode=my_explode)\n",
        "plt.title('Target Spliting')\n",
        "plt.axis('equal')\n",
        "plt.show()"
      ],
      "metadata": {
        "colab": {
          "base_uri": "https://localhost:8080/",
          "height": 264
        },
        "id": "BqtqnjX1fr9n",
        "outputId": "157ffae7-1376-4761-c0f9-02ec7c166f72"
      },
      "execution_count": 60,
      "outputs": [
        {
          "output_type": "display_data",
          "data": {
            "text/plain": [
              "<Figure size 432x288 with 1 Axes>"
            ],
            "image/png": "[encoded data removed]"
          },
          "metadata": {}
        }
      ]
    },
    {
      "cell_type": "markdown",
      "source": [
        "Training the model: Logistic Regression"
      ],
      "metadata": {
        "id": "c558quK_bona"
      }
    },
    {
      "cell_type": "code",
      "source": [
        "model = LogisticRegression()"
      ],
      "metadata": {
        "id": "HgoZ3e2IcPjK"
      },
      "execution_count": 42,
      "outputs": []
    },
    {
      "cell_type": "code",
      "source": [
        "model.fit(X_train, Y_train)"
      ],
      "metadata": {
        "colab": {
          "base_uri": "https://localhost:8080/"
        },
        "id": "i-chAWAKcRfB",
        "outputId": "261d32d2-37e9-44ff-d3e8-e8b2ababdb12"
      },
      "execution_count": 43,
      "outputs": [
        {
          "output_type": "stream",
          "name": "stderr",
          "text": [
            "/usr/local/lib/python3.7/dist-packages/sklearn/linear_model/_logistic.py:818: ConvergenceWarning: lbfgs failed to converge (status=1):\n",
            "STOP: TOTAL NO. of ITERATIONS REACHED LIMIT.\n",
            "\n",
            "Increase the number of iterations (max_iter) or scale the data as shown in:\n",
            "    https://scikit-learn.org/stable/modules/preprocessing.html\n",
            "Please also refer to the documentation for alternative solver options:\n",
            "    https://scikit-learn.org/stable/modules/linear_model.html#logistic-regression\n",
            "  extra_warning_msg=_LOGISTIC_SOLVER_CONVERGENCE_MSG,\n"
          ]
        },
        {
          "output_type": "execute_result",
          "data": {
            "text/plain": [
              "LogisticRegression()"
            ]
          },
          "metadata": {},
          "execution_count": 43
        }
      ]
    },
    {
      "cell_type": "markdown",
      "source": [
        "Evaluation"
      ],
      "metadata": {
        "id": "tYGx3KOqcTnw"
      }
    },
    {
      "cell_type": "code",
      "source": [
        "# accuracy for training data\n",
        "X_train_prediction = model.predict(X_train)\n",
        "training_data_accuracy = accuracy_score(X_train_prediction,Y_train)"
      ],
      "metadata": {
        "id": "3GDaFeVTclHp"
      },
      "execution_count": 44,
      "outputs": []
    },
    {
      "cell_type": "code",
      "source": [
        "print('Accuracy on training data : ', training_data_accuracy)"
      ],
      "metadata": {
        "colab": {
          "base_uri": "https://localhost:8080/"
        },
        "id": "VCM8suJcclmy",
        "outputId": "43b3d914-bb86-4175-ca64-bce9561abe0e"
      },
      "execution_count": 45,
      "outputs": [
        {
          "output_type": "stream",
          "name": "stdout",
          "text": [
            "Accuracy on training data :  0.9064719810576164\n"
          ]
        }
      ]
    },
    {
      "cell_type": "code",
      "source": [
        "#accuracy of the test data\n",
        "\n",
        "X_test_prediction = model.predict(X_test)\n",
        "test_data_accuracy = accuracy_score(X_test_prediction, Y_test)"
      ],
      "metadata": {
        "id": "LlbbdUDwcr1g"
      },
      "execution_count": 46,
      "outputs": []
    },
    {
      "cell_type": "code",
      "source": [
        "print('Accuracy on test data : ', test_data_accuracy)"
      ],
      "metadata": {
        "colab": {
          "base_uri": "https://localhost:8080/"
        },
        "id": "xr8CwL-Ac3R5",
        "outputId": "9dd28531-a118-4a47-c36f-903b13033862"
      },
      "execution_count": 47,
      "outputs": [
        {
          "output_type": "stream",
          "name": "stdout",
          "text": [
            "Accuracy on test data :  0.8753943217665615\n"
          ]
        }
      ]
    },
    {
      "cell_type": "code",
      "source": [
        "input_data = (0.0597809849598081,0.0642412677031359,0.032026913372582,0.0150714886459209,0.0901934398654331,0.0751219512195122,12.8634618371626,274.402905502067,0.893369416700807,0.491917766397811,0,0.0597809849598081,0.084279106440321,0.0157016683022571,0.275862068965517,0.0078125,0.0078125,0.0078125,0,0)\n",
        "#change data to numpy array\n",
        "input_data_as_nparray = np.asarray(input_data)\n",
        "\n",
        "#reshape array\n",
        "input_data_reshape = input_data_as_nparray.reshape(1,-1)\n",
        "\n",
        "# standardising the input data\n",
        "std_data = scaler.transform(input_data_reshape)\n",
        "print(std_data)\n",
        "\n",
        "prediction = model.predict(std_data)\n",
        "print(prediction)\n",
        "\n",
        "if (prediction[0] == 0):\n",
        "  print('Male')\n",
        "else:\n",
        "  print('Female')"
      ],
      "metadata": {
        "colab": {
          "base_uri": "https://localhost:8080/"
        },
        "id": "7Yj-b_E1c6Ks",
        "outputId": "2e62f07d-e68a-4fc9-ca8a-afb4f700e6b4"
      },
      "execution_count": 48,
      "outputs": [
        {
          "output_type": "stream",
          "name": "stdout",
          "text": [
            "[[-4.04924806  0.4273553  -4.22490077 -2.57610164 -5.69360723 -0.21477826\n",
            "   2.29330585  1.76294635 -0.03908279  0.4715753  -2.14121031 -4.04924806\n",
            "  -1.81203825 -1.0979981   0.56595854 -1.5642046  -0.70840431 -1.43142165\n",
            "  -1.41913712 -1.45477229]]\n",
            "[0]\n",
            "Male\n"
          ]
        },
        {
          "output_type": "stream",
          "name": "stderr",
          "text": [
            "/usr/local/lib/python3.7/dist-packages/sklearn/base.py:451: UserWarning: X does not have valid feature names, but StandardScaler was fitted with feature names\n",
            "  \"X does not have valid feature names, but\"\n",
            "/usr/local/lib/python3.7/dist-packages/sklearn/base.py:451: UserWarning: X does not have valid feature names, but LogisticRegression was fitted with feature names\n",
            "  \"X does not have valid feature names, but\"\n"
          ]
        }
      ]
    }
  ]
}